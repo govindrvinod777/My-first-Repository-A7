{
  "nbformat": 4,
  "nbformat_minor": 0,
  "metadata": {
    "colab": {
      "provenance": [],
      "authorship_tag": "ABX9TyNg5ZyjxKDLo4SHSVYBwGKH",
      "include_colab_link": true
    },
    "kernelspec": {
      "name": "python3",
      "display_name": "Python 3"
    },
    "language_info": {
      "name": "python"
    }
  },
  "cells": [
    {
      "cell_type": "markdown",
      "metadata": {
        "id": "view-in-github",
        "colab_type": "text"
      },
      "source": [
        "<a href=\"https://colab.research.google.com/github/govindrvinod777/My-first-Repository-A7/blob/main/Govind1.ipynb\" target=\"_parent\"><img src=\"https://colab.research.google.com/assets/colab-badge.svg\" alt=\"Open In Colab\"/></a>"
      ]
    },
    {
      "cell_type": "code",
      "execution_count": 1,
      "metadata": {
        "colab": {
          "base_uri": "https://localhost:8080/"
        },
        "id": "dIAlBUJBhPmS",
        "outputId": "0e87dc84-1d66-48b3-e503-d8514510ce3a"
      },
      "outputs": [
        {
          "output_type": "stream",
          "name": "stdout",
          "text": [
            "Last Column:\n",
            "[19 29 39 49]\n"
          ]
        }
      ],
      "source": [
        "import numpy as np\n",
        "\n",
        "arr1 = np.arange(10, 50)\n",
        "\n",
        "arr1_reshaped = arr1.reshape(4, 10)\n",
        "\n",
        "last_column = arr1_reshaped[:, -1]\n",
        "\n",
        "print(\"Last Column:\")\n",
        "print(last_column)"
      ]
    },
    {
      "cell_type": "code",
      "source": [
        "matrix1 = np.full((3, 3), 5)\n",
        "\n",
        "matrix2 = np.arange(1, 10).reshape(3, 3)\n",
        "\n",
        "matrix_sum = matrix1 + matrix2\n",
        "\n",
        "matrix_product = matrix1 * matrix2\n",
        "\n",
        "matrix_transpose = matrix_product.T\n",
        "\n",
        "print(\"Matrix Sum:\")\n",
        "print(matrix_sum)\n",
        "print(\"\\nMatrix Product (Element-wise):\")\n",
        "print(matrix_product)\n",
        "print(\"\\nTranspose of the Product:\")\n",
        "print(matrix_transpose)"
      ],
      "metadata": {
        "colab": {
          "base_uri": "https://localhost:8080/"
        },
        "id": "v29gA1gqj0BC",
        "outputId": "7254265b-a202-444f-e80d-d4a8531579c1"
      },
      "execution_count": 2,
      "outputs": [
        {
          "output_type": "stream",
          "name": "stdout",
          "text": [
            "Matrix Sum:\n",
            "[[ 6  7  8]\n",
            " [ 9 10 11]\n",
            " [12 13 14]]\n",
            "\n",
            "Matrix Product (Element-wise):\n",
            "[[ 5 10 15]\n",
            " [20 25 30]\n",
            " [35 40 45]]\n",
            "\n",
            "Transpose of the Product:\n",
            "[[ 5 20 35]\n",
            " [10 25 40]\n",
            " [15 30 45]]\n"
          ]
        }
      ]
    },
    {
      "cell_type": "code",
      "source": [
        "arr3 = np.random.randint(10, 101, size=15)\n",
        "\n",
        "replaced_values = np.sum(arr3 > 50)\n",
        "arr3[arr3 > 50] = -1\n",
        "\n",
        "print(\"Array after replacement:\")\n",
        "print(arr3)\n",
        "print(f\"\\nNumber of values replaced: {replaced_values}\")"
      ],
      "metadata": {
        "colab": {
          "base_uri": "https://localhost:8080/"
        },
        "id": "5D118bYPj7A3",
        "outputId": "68d4b802-0adc-45bc-dcf0-1520b8c7d86e"
      },
      "execution_count": 3,
      "outputs": [
        {
          "output_type": "stream",
          "name": "stdout",
          "text": [
            "Array after replacement:\n",
            "[43 25 -1 -1 -1 30 -1 -1 -1 25 -1 14 -1 45 -1]\n",
            "\n",
            "Number of values replaced: 9\n"
          ]
        }
      ]
    },
    {
      "cell_type": "code",
      "source": [
        "arr4 = np.random.rand(5, 4)\n",
        "\n",
        "row_max_sum = np.argmax(arr4.sum(axis=1))\n",
        "\n",
        "arr4_normalized = arr4 / arr4.sum(axis=1)[:, None]\n",
        "\n",
        "print(\"Array with Normalized Rows:\")\n",
        "print(arr4_normalized)\n",
        "print(f\"\\nRow with maximum sum of values: {row_max_sum}\")"
      ],
      "metadata": {
        "colab": {
          "base_uri": "https://localhost:8080/"
        },
        "id": "XYdeTYPQj-FE",
        "outputId": "a47a93c8-1eb5-473d-85fa-ddc808744923"
      },
      "execution_count": 4,
      "outputs": [
        {
          "output_type": "stream",
          "name": "stdout",
          "text": [
            "Array with Normalized Rows:\n",
            "[[0.39109263 0.08310542 0.48223819 0.04356376]\n",
            " [0.28436038 0.25376977 0.20523663 0.25663322]\n",
            " [0.22752076 0.35966444 0.35401181 0.05880299]\n",
            " [0.10464193 0.26677852 0.54692279 0.08165676]\n",
            " [0.34326043 0.13816561 0.28603834 0.23253562]]\n",
            "\n",
            "Row with maximum sum of values: 1\n"
          ]
        }
      ]
    },
    {
      "cell_type": "code",
      "source": [
        "import numpy as np\n",
        "\n",
        "arr5 = np.array([1, 3, 5, 3, 7, 9, 1, 5, 5])\n",
        "\n",
        "unique_elements = np.unique(arr5)\n",
        "\n",
        "values, counts = np.unique(arr5, return_counts=True)\n",
        "duplicates = values[counts > 1]\n",
        "\n",
        "print(\"Unique Elements:\")\n",
        "print(unique_elements)\n",
        "\n",
        "print(\"\\nDuplicates:\")"
      ],
      "metadata": {
        "colab": {
          "base_uri": "https://localhost:8080/"
        },
        "id": "UM3EBYx5kAMy",
        "outputId": "8ac05af0-f0fa-4404-ae54-41995f3ce2c3"
      },
      "execution_count": 5,
      "outputs": [
        {
          "output_type": "stream",
          "name": "stdout",
          "text": [
            "Unique Elements:\n",
            "[1 3 5 7 9]\n",
            "\n",
            "Duplicates:\n"
          ]
        }
      ]
    },
    {
      "cell_type": "code",
      "source": [
        "arr6 = np.arange(1, 37).reshape(6, 6)\n",
        "\n",
        "submatrix = arr6[1:5, 1:5]\n",
        "\n",
        "even_numbers = submatrix[submatrix % 2 == 0]\n",
        "\n",
        "print(\"Submatrix:\")\n",
        "print(submatrix)\n",
        "print(\"\\nEven numbers from submatrix:\")\n",
        "print(even_numbers)\n"
      ],
      "metadata": {
        "colab": {
          "base_uri": "https://localhost:8080/"
        },
        "id": "Esa4Ob_hkChT",
        "outputId": "30557bc6-8148-4221-a0ed-7a31d9b64ea1"
      },
      "execution_count": 6,
      "outputs": [
        {
          "output_type": "stream",
          "name": "stdout",
          "text": [
            "Submatrix:\n",
            "[[ 8  9 10 11]\n",
            " [14 15 16 17]\n",
            " [20 21 22 23]\n",
            " [26 27 28 29]]\n",
            "\n",
            "Even numbers from submatrix:\n",
            "[ 8 10 14 16 20 22 26 28]\n"
          ]
        }
      ]
    },
    {
      "cell_type": "code",
      "source": [
        "arr7 = np.arange(12).reshape(3, 4)\n",
        "\n",
        "arr7_reshaped = arr7.reshape(2, 6)\n",
        "\n",
        "arr7_flat = arr7.flatten()\n",
        "\n",
        "arr7_final = arr7_flat.reshape(4, 3)\n",
        "\n",
        "print(\"Final reshaped array (4, 3):\")\n",
        "print(arr7_final)\n"
      ],
      "metadata": {
        "colab": {
          "base_uri": "https://localhost:8080/"
        },
        "id": "o3terCZekFAX",
        "outputId": "5744a304-10f7-439e-b41b-e70a6f375e43"
      },
      "execution_count": 7,
      "outputs": [
        {
          "output_type": "stream",
          "name": "stdout",
          "text": [
            "Final reshaped array (4, 3):\n",
            "[[ 0  1  2]\n",
            " [ 3  4  5]\n",
            " [ 6  7  8]\n",
            " [ 9 10 11]]\n"
          ]
        }
      ]
    },
    {
      "cell_type": "code",
      "source": [
        "a = np.array([[1, 2], [3, 4]])\n",
        "\n",
        "a_new_row = np.append(a, [[5, 6]], axis=0)\n",
        "\n",
        "a_final = np.append(a_new_row, [[7], [8], [9]], axis=1)\n",
        "\n",
        "print(\"Final array with new row and column:\")\n",
        "print(a_final)\n"
      ],
      "metadata": {
        "colab": {
          "base_uri": "https://localhost:8080/"
        },
        "id": "3e8hVE4ykKlX",
        "outputId": "49fef475-4acc-4267-baa4-4550b48d1c5b"
      },
      "execution_count": 8,
      "outputs": [
        {
          "output_type": "stream",
          "name": "stdout",
          "text": [
            "Final array with new row and column:\n",
            "[[1 2 7]\n",
            " [3 4 8]\n",
            " [5 6 9]]\n"
          ]
        }
      ]
    },
    {
      "cell_type": "code",
      "source": [
        "a = np.array([1, 2, 3])\n",
        "b = np.array([4, 5, 6])\n",
        "c = np.array([7, 8, 9])\n",
        "\n",
        "joined_array = np.concatenate((a, b, c))\n",
        "\n",
        "reshaped_matrix = joined_array.reshape(3, 3)\n",
        "\n",
        "diagonal_elements = np.diag(reshaped_matrix)\n",
        "\n",
        "print(\"Joined array:\")\n",
        "print(joined_array)\n",
        "print(\"\\nReshaped matrix:\")\n",
        "print(reshaped_matrix)\n",
        "print(\"\\nDiagonal elements:\")\n",
        "print(diagonal_elements)\n"
      ],
      "metadata": {
        "colab": {
          "base_uri": "https://localhost:8080/"
        },
        "id": "ft0vB6t0kNIS",
        "outputId": "9a1de635-cf18-40d0-cbb4-dd3bf37a95f7"
      },
      "execution_count": 9,
      "outputs": [
        {
          "output_type": "stream",
          "name": "stdout",
          "text": [
            "Joined array:\n",
            "[1 2 3 4 5 6 7 8 9]\n",
            "\n",
            "Reshaped matrix:\n",
            "[[1 2 3]\n",
            " [4 5 6]\n",
            " [7 8 9]]\n",
            "\n",
            "Diagonal elements:\n",
            "[1 5 9]\n"
          ]
        }
      ]
    },
    {
      "cell_type": "code",
      "source": [
        "arr10 = np.arange(1, 21)\n",
        "\n",
        "divisible_by_3_or_5 = arr10[(arr10 % 3 == 0) | (arr10 % 5 == 0)]\n",
        "\n",
        "count = len(divisible_by_3_or_5)\n",
        "\n",
        "print(\"Values divisible by 3 or 5:\")\n",
        "print(divisible_by_3_or_5)\n",
        "print(f\"\\nCount: {count}\")"
      ],
      "metadata": {
        "colab": {
          "base_uri": "https://localhost:8080/"
        },
        "id": "fu6Io-1TkPRX",
        "outputId": "c9decd70-16e3-4929-dd60-270f37e3225d"
      },
      "execution_count": 10,
      "outputs": [
        {
          "output_type": "stream",
          "name": "stdout",
          "text": [
            "Values divisible by 3 or 5:\n",
            "[ 3  5  6  9 10 12 15 18 20]\n",
            "\n",
            "Count: 9\n"
          ]
        }
      ]
    },
    {
      "cell_type": "code",
      "source": [],
      "metadata": {
        "id": "oEas35x-kRnk"
      },
      "execution_count": null,
      "outputs": []
    }
  ]
}